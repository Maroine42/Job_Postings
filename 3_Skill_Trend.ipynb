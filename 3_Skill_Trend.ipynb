{
 "cells": [
  {
   "cell_type": "code",
   "execution_count": 1,
   "metadata": {},
   "outputs": [],
   "source": [
    "# Importing Libraries\n",
    "import ast\n",
    "import pandas as pd\n",
    "import seaborn as sns\n",
    "from datasets import load_dataset\n",
    "import matplotlib.pyplot as plt  \n",
    "\n",
    "# Loading Data\n",
    "dataset = load_dataset('lukebarousse/data_jobs')\n",
    "df = dataset['train'].to_pandas()\n",
    "\n",
    "# Data Cleanup\n",
    "df['job_posted_date'] = pd.to_datetime(df['job_posted_date'])\n",
    "df['job_skills'] = df['job_skills'].apply(lambda x: ast.literal_eval(x) if pd.notna(x) else x)"
   ]
  },
  {
   "cell_type": "code",
   "execution_count": 2,
   "metadata": {},
   "outputs": [],
   "source": [
    "## Skill count per month for data analysts\n",
    "df_DS_FR = df[(df['job_title'] == 'Data Scientist') & (df['job_country'] == 'France')].copy()\n",
    "\n",
    "df_DS_FR['job_posted_month_no'] = df_DS_FR['job_posted_date'].dt.month\n",
    "\n",
    "# Explode job_skills column\n",
    "df_DS_FR_explode = df_DS_FR.explode('job_skills')"
   ]
  },
  {
   "cell_type": "code",
   "execution_count": 14,
   "metadata": {},
   "outputs": [],
   "source": [
    "df_DS_FR_pivot = df_DS_FR_explode.pivot_table(index='job_posted_month_no', columns='job_skills',  aggfunc='size', fill_value=0)\n",
    "df_DS_FR_pivot.loc['Total'] = df_DS_FR_pivot.sum()\n",
    "df_DS_FR_pivot = df_DS_FR_pivot[df_DS_FR_pivot.loc['Total'].sort_values(ascending=False).index]\n",
    "df_DS_FR_pivot = df_DS_FR_pivot.drop('Total')\n"
   ]
  },
  {
   "cell_type": "code",
   "execution_count": 16,
   "metadata": {},
   "outputs": [],
   "source": [
    "DS_totals = df_DS_FR.groupby('job_posted_month_no').size()"
   ]
  },
  {
   "cell_type": "code",
   "execution_count": null,
   "metadata": {},
   "outputs": [],
   "source": [
    "df_DA_FR_percent = df_DS_FR_pivot.div(DS_totals/100, axis=0)\n",
    "\n",
    "# changes month number to month name\n",
    "df_DA_FR_percent =df_DA_FR_percent.reset_index()\n",
    "df_DA_FR_percent['job_posted_month'] =df_DA_FR_percent['job_posted_month_no'].apply(lambda x: pd.to_datetime(x, format='%m').strftime('%b'))\n",
    "df_DA_FR_percent =df_DA_FR_percent.set_index('job_posted_month')\n",
    "df_DA_FR_percent =df_DA_FR_percent.drop(columns='job_posted_month_no')\n",
    "\n",
    "df_DA_FR_percent"
   ]
  },
  {
   "cell_type": "code",
   "execution_count": null,
   "metadata": {},
   "outputs": [],
   "source": [
    "from matplotlib.ticker import PercentFormatter\n",
    "\n",
    "\n",
    "df_plot = df_DA_FR_percent.iloc[:,:5]\n",
    "\n",
    "sns.lineplot(data = df_plot, dashes = False,palette='tab10')\n",
    "sns.set_theme(style='ticks')\n",
    "\n",
    "sns.despine() # remove top and right spines\n",
    "\n",
    "plt.title('Trending Top Skills for Data Scientist in France')\n",
    "plt.ylabel('Likelihood in Job Posting')\n",
    "plt.xlabel('2023')\n",
    "plt.legend().remove()\n",
    "\n",
    "\n",
    "ax = plt.gca()\n",
    "plt.gca().yaxis.set_major_formatter(PercentFormatter(decimals=0))\n",
    "\n",
    "for i in range (5):\n",
    "    plt.text(11.3,df_plot.iloc[-1,i],df_plot.columns[i])\n"
   ]
  }
 ],
 "metadata": {
  "kernelspec": {
   "display_name": "python_course",
   "language": "python",
   "name": "python3"
  },
  "language_info": {
   "codemirror_mode": {
    "name": "ipython",
    "version": 3
   },
   "file_extension": ".py",
   "mimetype": "text/x-python",
   "name": "python",
   "nbconvert_exporter": "python",
   "pygments_lexer": "ipython3",
   "version": "3.11.11"
  }
 },
 "nbformat": 4,
 "nbformat_minor": 2
}
